{
  "nbformat": 4,
  "nbformat_minor": 0,
  "metadata": {
    "colab": {
      "name": "Quy hoach tuyen tinh - Giua ky.ipynb",
      "provenance": [],
      "collapsed_sections": []
    },
    "kernelspec": {
      "name": "python3",
      "display_name": "Python 3"
    },
    "language_info": {
      "name": "python"
    }
  },
  "cells": [
    {
      "cell_type": "markdown",
      "source": [
        "# Bài 1\n",
        "Sử dụng thư viện scipy của Python để giải lại bài toán bằng phương pháp đơn hình"
      ],
      "metadata": {
        "id": "IJo0OGwYJxUz"
      }
    },
    {
      "cell_type": "code",
      "source": [
        "from google.colab import drive\n",
        "drive.mount('/content/drive')"
      ],
      "metadata": {
        "id": "SE6bQGAqT4ih"
      },
      "execution_count": null,
      "outputs": []
    },
    {
      "cell_type": "code",
      "source": [
        "from scipy.optimize import linprog\n",
        "\n",
        "c = [2, 2, 3]\n",
        "c_max = [-i for i in c]\n",
        "b = [14, 16, 16]\n",
        "A = [[1, 2, -1], [2, -2, 3], [-1, 4, 2]]\n",
        "\n",
        "x1_bnds = (0, None)\n",
        "x2_bnds = (0, None)\n",
        "x3_bnds = (0, None)\n",
        "\n",
        "res = linprog(c_max, A_ub=A, b_ub=b, bounds=(x1_bnds, x2_bnds, x3_bnds), method='simplex')\n",
        "\n",
        "print('Optimal value:', res.fun * -1, '\\nX:', res.x)"
      ],
      "metadata": {
        "colab": {
          "base_uri": "https://localhost:8080/"
        },
        "id": "8belOyVWQNrq",
        "outputId": "d8699856-40ef-47a3-a85f-9d7f078d95bf"
      },
      "execution_count": null,
      "outputs": [
        {
          "output_type": "stream",
          "name": "stdout",
          "text": [
            "Optimal value: 34.0 \n",
            "X: [8.  4.5 3. ]\n"
          ]
        }
      ]
    },
    {
      "cell_type": "markdown",
      "source": [
        "# Bài 2"
      ],
      "metadata": {
        "id": "xtWb31d3Kg96"
      }
    },
    {
      "cell_type": "markdown",
      "source": [
        "Liệt kê số tổ hợp từ mã số sinh viên"
      ],
      "metadata": {
        "id": "LolNzZfuSmsO"
      }
    },
    {
      "cell_type": "code",
      "source": [
        "import itertools\n",
        "\n",
        "stuff = [1, 9, 1, 2, 0, 4, 9, 0]\n",
        "\n",
        "combinations_set = set()\n",
        "\n",
        "for subset in itertools.combinations(stuff, 4):\n",
        "  element = sorted(subset, reverse=True)\n",
        "  combinations_set.add(tuple(element))\n",
        "\n",
        "print(len(combinations_set))"
      ],
      "metadata": {
        "colab": {
          "base_uri": "https://localhost:8080/"
        },
        "id": "SHnNjVB7HjhH",
        "outputId": "c4166be4-b731-4d02-e298-03762a9a388a"
      },
      "execution_count": null,
      "outputs": [
        {
          "output_type": "stream",
          "name": "stdout",
          "text": [
            "26\n"
          ]
        }
      ]
    },
    {
      "cell_type": "markdown",
      "source": [
        "Thử từng tổ hợp để tìm bộ (a, b, c, d) làm cho bài toán vô nghiệm"
      ],
      "metadata": {
        "id": "jKFC6G49SoFl"
      }
    },
    {
      "cell_type": "code",
      "source": [
        "from scipy.optimize import linprog\n",
        "\n",
        "while len(combinations_set) != 0:\n",
        "  element = combinations_set.pop();\n",
        "\n",
        "  a_coef = element[0]\n",
        "  b_coef = element[1]\n",
        "  c_coef = element[2]\n",
        "  d_coef = element[3]\n",
        "\n",
        "  c = [29, 4]\n",
        "  c_max = [-i for i in c]\n",
        "  b = [23, 22, -5]\n",
        "  A = [[a_coef, -d_coef], [-c_coef, b_coef], [-1, -1]]\n",
        "\n",
        "  x1_bnds = (0, None)\n",
        "  x2_bnds = (0, None)\n",
        "  x3_bnds = (0, None)\n",
        "\n",
        "  res = linprog(c_max, A_ub=A, b_ub=b, bounds=(x1_bnds, x2_bnds), method='simplex')\n",
        "\n",
        "  if res.success == False:\n",
        "    print(element)"
      ],
      "metadata": {
        "id": "4f7Zg_7IK1QK"
      },
      "execution_count": null,
      "outputs": []
    },
    {
      "cell_type": "code",
      "source": [
        "print(len(combinations_set))"
      ],
      "metadata": {
        "colab": {
          "base_uri": "https://localhost:8080/"
        },
        "id": "eM5bxYT4Pg55",
        "outputId": "a2a02c5a-e89b-4947-9613-990e42c480de"
      },
      "execution_count": null,
      "outputs": [
        {
          "output_type": "stream",
          "name": "stdout",
          "text": [
            "26\n"
          ]
        }
      ]
    }
  ]
}